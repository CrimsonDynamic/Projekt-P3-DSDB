{
 "cells": [
  {
   "cell_type": "markdown",
   "id": "1da68b72",
   "metadata": {},
   "source": [
    "## Teil P.2: ETL Pipeline\n",
    "\n",
    "#### API\n",
    "https://api.jolpi.ca/ergast/\n",
    "\n",
    "#### Kennzahlen und Dimensionen\n",
    "- Durchschnittliche Qualifying-Zeit nach Qualifying Run (Q1, Q2, Q3), (erzielter) Startposition, Saison\n",
    "- Anzahl der Rennsiege nach Fahrer, Alter, Nationalitäten der Fahrer\n",
    "- Anzahl technischer Ausfälle durch Motorprobleme nach Fahrer, Team, Saison"
   ]
  },
  {
   "cell_type": "markdown",
   "id": "aa28fda6",
   "metadata": {},
   "source": [
    "### Import Anweisungen"
   ]
  },
  {
   "cell_type": "code",
   "execution_count": 2,
   "id": "805c8769",
   "metadata": {},
   "outputs": [
    {
     "ename": "ModuleNotFoundError",
     "evalue": "No module named 'duckdb'",
     "output_type": "error",
     "traceback": [
      "\u001b[31m---------------------------------------------------------------------------\u001b[39m",
      "\u001b[31mModuleNotFoundError\u001b[39m                       Traceback (most recent call last)",
      "\u001b[36mCell\u001b[39m\u001b[36m \u001b[39m\u001b[32mIn[2]\u001b[39m\u001b[32m, line 1\u001b[39m\n\u001b[32m----> \u001b[39m\u001b[32m1\u001b[39m \u001b[38;5;28;01mimport\u001b[39;00m\u001b[38;5;250m \u001b[39m\u001b[34;01mduckdb\u001b[39;00m\u001b[38;5;250m \u001b[39m\u001b[38;5;28;01mas\u001b[39;00m\u001b[38;5;250m \u001b[39m\u001b[34;01mdb\u001b[39;00m\n\u001b[32m      2\u001b[39m \u001b[38;5;28;01mimport\u001b[39;00m\u001b[38;5;250m \u001b[39m\u001b[34;01mpandas\u001b[39;00m\u001b[38;5;250m \u001b[39m\u001b[38;5;28;01mas\u001b[39;00m\u001b[38;5;250m \u001b[39m\u001b[34;01mpd\u001b[39;00m\n\u001b[32m      3\u001b[39m \u001b[38;5;28;01mimport\u001b[39;00m\u001b[38;5;250m \u001b[39m\u001b[34;01mnumpy\u001b[39;00m\u001b[38;5;250m \u001b[39m\u001b[38;5;28;01mas\u001b[39;00m\u001b[38;5;250m \u001b[39m\u001b[34;01mnp\u001b[39;00m\n",
      "\u001b[31mModuleNotFoundError\u001b[39m: No module named 'duckdb'"
     ]
    }
   ],
   "source": [
    "import duckdb as db\n",
    "import pandas as pd\n",
    "import numpy as np\n",
    "import requests\n",
    "import time"
   ]
  },
  {
   "cell_type": "markdown",
   "id": "fdf06998",
   "metadata": {},
   "source": [
    "### Erstellung der Datenbank"
   ]
  },
  {
   "cell_type": "code",
   "execution_count": null,
   "id": "c372eacf",
   "metadata": {},
   "outputs": [],
   "source": [
    "con = db.connect(\"f1.duckdb\")\n",
    "\n",
    "with open(\"Installationsskript.sql\", \"r\") as f:\n",
    "    sql = f.read()\n",
    "    con.execute(sql)"
   ]
  },
  {
   "cell_type": "markdown",
   "id": "01ec3c65",
   "metadata": {},
   "source": [
    "### Abfrage der Daten"
   ]
  },
  {
   "cell_type": "markdown",
   "id": "fcc705db",
   "metadata": {},
   "source": [
    "#### Fahrer"
   ]
  },
  {
   "cell_type": "code",
   "execution_count": null,
   "id": "a4625c9d",
   "metadata": {},
   "outputs": [
    {
     "name": "stdout",
     "output_type": "stream",
     "text": [
      "  Fahrer_ID       Name Nationalität Geburtsdatum\n",
      "0     albon  Alexander         Thai   1996-03-23\n",
      "1    alonso   Fernando      Spanish   1981-07-29\n",
      "2    bottas   Valtteri      Finnish   1989-08-28\n",
      "3  de_vries       Nyck        Dutch   1995-02-06\n",
      "4     gasly     Pierre       French   1996-02-07\n"
     ]
    }
   ],
   "source": [
    "fahrer = []\n",
    "\n",
    "for season in range(2023, 2026):\n",
    "    url = f\"https://api.jolpi.ca/ergast/f1/{season}/drivers.json\"\n",
    "    \n",
    "    try:\n",
    "        resp = requests.get(url)\n",
    "        data = resp.json()\n",
    "        drivers = data[\"MRData\"][\"DriverTable\"][\"Drivers\"]\n",
    "\n",
    "        if drivers:\n",
    "            for driver in drivers:\n",
    "                fahrer.append({\n",
    "                    \"Fahrer_ID\": driver[\"driverId\"],\n",
    "                    \"Name\": driver[\"givenName\"],\n",
    "                    \"Nationalität\": driver[\"nationality\"],\n",
    "                    \"Geburtsdatum\": driver[\"dateOfBirth\"]\n",
    "                })\n",
    "            \n",
    "    except Exception as e:\n",
    "        print(f\"Fehler bei {season}: {e}\")\n",
    "\n",
    "df_fahrer = pd.DataFrame(fahrer)\n",
    "\n",
    "print(df_fahrer.head())"
   ]
  },
  {
   "cell_type": "markdown",
   "id": "af3804e1",
   "metadata": {},
   "source": [
    "#### Konstrukteure"
   ]
  },
  {
   "cell_type": "code",
   "execution_count": null,
   "id": "0dc25d24",
   "metadata": {},
   "outputs": [
    {
     "name": "stdout",
     "output_type": "stream",
     "text": [
      "  Konstrukteur_ID            Name\n",
      "0            alfa      Alfa Romeo\n",
      "1      alphatauri      AlphaTauri\n",
      "2          alpine  Alpine F1 Team\n",
      "3    aston_martin    Aston Martin\n",
      "4         ferrari         Ferrari\n"
     ]
    }
   ],
   "source": [
    "konstrukteure = []\n",
    "\n",
    "for season in range(2023, 2026):\n",
    "    url = f\"https://api.jolpi.ca/ergast/f1/{season}/constructors.json\"\n",
    "    \n",
    "    try:\n",
    "        resp = requests.get(url)\n",
    "        data = resp.json()\n",
    "        constructors = data[\"MRData\"][\"ConstructorTable\"][\"Constructors\"]\n",
    "\n",
    "        if constructors:\n",
    "            for constructor in constructors:\n",
    "                konstrukteure.append({\n",
    "                    \"Konstrukteur_ID\": constructor[\"constructorId\"],\n",
    "                    \"Name\": constructor[\"name\"]\n",
    "                })\n",
    "    \n",
    "    except Exception as e:\n",
    "        print(f\"Fehler bei Konstrukteure {season}: {e}\")\n",
    "\n",
    "df_konstrukteure = pd.DataFrame(konstrukteure)\n",
    "\n",
    "print(df_konstrukteure.head())"
   ]
  },
  {
   "cell_type": "markdown",
   "id": "1fca1965",
   "metadata": {},
   "source": [
    "#### Rennen"
   ]
  },
  {
   "cell_type": "code",
   "execution_count": null,
   "id": "8f6d478c",
   "metadata": {},
   "outputs": [
    {
     "name": "stdout",
     "output_type": "stream",
     "text": [
      "  Rennen_ID  Saison                   GP_Name       Datum  Runde\n",
      "0    2023_1    2023        Bahrain Grand Prix  2023-03-05      1\n",
      "1    2023_2    2023  Saudi Arabian Grand Prix  2023-03-19      2\n",
      "2    2023_3    2023     Australian Grand Prix  2023-04-02      3\n",
      "3    2023_4    2023     Azerbaijan Grand Prix  2023-04-30      4\n",
      "4    2023_5    2023          Miami Grand Prix  2023-05-07      5\n"
     ]
    }
   ],
   "source": [
    "rennen = []\n",
    "\n",
    "for season in range(2023, 2026):\n",
    "    url = f\"https://api.jolpi.ca/ergast/f1/{season}.json\"\n",
    "    try:\n",
    "        response = requests.get(url)\n",
    "        data = response.json()\n",
    "        races = data[\"MRData\"][\"RaceTable\"][\"Races\"]\n",
    "\n",
    "        for race in races:\n",
    "            rennen.append({\n",
    "                \"Rennen_ID\": f\"{season}_{race['round']}\",\n",
    "                \"Saison\": season,\n",
    "                \"GP_Name\": race[\"raceName\"],\n",
    "                \"Datum\": race[\"date\"],\n",
    "                \"Runde\": int(race[\"round\"])\n",
    "            })\n",
    "\n",
    "    except Exception as e:\n",
    "        print(f\"Fehler bei Saison {season}: {e}\")\n",
    "\n",
    "df_rennen = pd.DataFrame(rennen)\n",
    "\n",
    "print(df_rennen.head())"
   ]
  },
  {
   "cell_type": "markdown",
   "id": "26668071",
   "metadata": {},
   "source": [
    "#### Qualifying Results"
   ]
  },
  {
   "cell_type": "markdown",
   "id": "d25cf0dc",
   "metadata": {},
   "source": [
    "Die Ergast API hat ein Rate Limit von 4 Requests pro Sekunde. Da wir auf recht große Datenmengen zugreifen müssen, um alle Qualifying- und Rennergebnisse zu erhalten, müssen wir das Rate Limit beachten. Dazu haben wir die folgende Methode geschrieben:"
   ]
  },
  {
   "cell_type": "code",
   "execution_count": null,
   "id": "bde35e3f",
   "metadata": {},
   "outputs": [],
   "source": [
    "def safe_request(url, max_retries=3, delay=0.5):\n",
    "    for attempt in range(max_retries):\n",
    "        try:\n",
    "            resp = requests.get(url)\n",
    "            if resp.status_code == 200:\n",
    "                return resp.json()\n",
    "            elif resp.status_code == 429:\n",
    "                time.sleep(2)\n",
    "            else:\n",
    "                print(f\"HTTP Fehler {resp.status_code} bei {url}\")\n",
    "                break\n",
    "        except Exception as e:\n",
    "            print(f\"Fehler beim Abrufen von {url}: {e}\")\n",
    "        time.sleep(delay)\n",
    "    return None"
   ]
  },
  {
   "cell_type": "code",
   "execution_count": null,
   "id": "73306c6e",
   "metadata": {},
   "outputs": [
    {
     "name": "stdout",
     "output_type": "stream",
     "text": [
      "   Saison  Runde       Fahrer_ID  Startplatz        Q1        Q2        Q3\n",
      "0    2023      1  max_verstappen           1  1:31.295  1:30.503  1:29.708\n",
      "1    2023      1           perez           2  1:31.479  1:30.746  1:29.846\n",
      "2    2023      1         leclerc           3  1:31.094  1:30.282  1:30.000\n",
      "3    2023      1           sainz           4  1:30.993  1:30.515  1:30.154\n",
      "4    2023      1          alonso           5  1:31.158  1:30.645  1:30.336\n"
     ]
    }
   ],
   "source": [
    "results_quali = []\n",
    "\n",
    "for season in range(2023, 2026):\n",
    "    season_url = f\"https://api.jolpi.ca/ergast/f1/{season}.json\"\n",
    "    season_data = safe_request(season_url)\n",
    "    time.sleep(0.3)\n",
    "\n",
    "    if not season_data:\n",
    "        continue\n",
    "\n",
    "    races = season_data[\"MRData\"][\"RaceTable\"][\"Races\"]\n",
    "\n",
    "    for race in races:\n",
    "        rnd = race[\"round\"]\n",
    "        quali_url = f\"https://api.jolpi.ca/ergast/f1/{season}/{rnd}/qualifying.json\"\n",
    "        quali_data = safe_request(quali_url)\n",
    "        time.sleep(0.3)\n",
    "\n",
    "        if not quali_data:\n",
    "            continue\n",
    "\n",
    "        quali_races = quali_data[\"MRData\"][\"RaceTable\"][\"Races\"]\n",
    "        if quali_races:\n",
    "            quali = quali_races[0]\n",
    "            for q in quali[\"QualifyingResults\"]:\n",
    "                driver = q[\"Driver\"]\n",
    "                results_quali.append({\n",
    "                    \"Saison\": season,\n",
    "                    \"Runde\": int(rnd),\n",
    "                    \"Fahrer_ID\": driver[\"driverId\"],\n",
    "                    \"Startplatz\": int(q[\"position\"]),\n",
    "                    \"Q1\": q.get(\"Q1\"),\n",
    "                    \"Q2\": q.get(\"Q2\"),\n",
    "                    \"Q3\": q.get(\"Q3\")\n",
    "                })\n",
    "\n",
    "df_quali = pd.DataFrame(results_quali)\n",
    "print(df_quali.head())"
   ]
  },
  {
   "cell_type": "markdown",
   "id": "be3c8991",
   "metadata": {},
   "source": [
    "#### Ergebnisse"
   ]
  },
  {
   "cell_type": "code",
   "execution_count": null,
   "id": "28d78516",
   "metadata": {},
   "outputs": [
    {
     "name": "stdout",
     "output_type": "stream",
     "text": [
      "  Rennen_ID       Fahrer_ID  Position    Status Konstrukteur_ID\n",
      "0    2023_1  max_verstappen         1  Finished        red_bull\n",
      "1    2023_1           perez         2  Finished        red_bull\n",
      "2    2023_1          alonso         3  Finished    aston_martin\n",
      "3    2023_1           sainz         4  Finished         ferrari\n",
      "4    2023_1        hamilton         5  Finished        mercedes\n"
     ]
    }
   ],
   "source": [
    "ergebnisse = []\n",
    "\n",
    "for season in range(2023, 2026):\n",
    "    season_url = f\"https://api.jolpi.ca/ergast/f1/{season}.json\"\n",
    "    season_data = safe_request(season_url)\n",
    "    time.sleep(0.3)\n",
    "\n",
    "    if not season_data:\n",
    "        continue\n",
    "\n",
    "    races = season_data[\"MRData\"][\"RaceTable\"][\"Races\"]\n",
    "\n",
    "    for race in races:\n",
    "        rnd = race[\"round\"]\n",
    "        results_url = f\"https://api.jolpi.ca/ergast/f1/{season}/{rnd}/results.json\"\n",
    "        data = safe_request(results_url)\n",
    "        time.sleep(0.3)\n",
    "\n",
    "        if not data:\n",
    "            continue\n",
    "\n",
    "        results_races = data[\"MRData\"][\"RaceTable\"][\"Races\"]\n",
    "        if results_races:\n",
    "            results_race = results_races[0]\n",
    "            rennen_id = f\"{season}_{rnd}\"\n",
    "\n",
    "            for result in results_race[\"Results\"]:\n",
    "                ergebnisse.append({\n",
    "                    \"Rennen_ID\": rennen_id,\n",
    "                    \"Fahrer_ID\": result[\"Driver\"][\"driverId\"],\n",
    "                    \"Position\": int(result[\"position\"]),\n",
    "                    \"Status\": result[\"status\"],\n",
    "                    \"Konstrukteur_ID\": result[\"Constructor\"][\"constructorId\"]\n",
    "                })\n",
    "\n",
    "df_ergebnisse = pd.DataFrame(ergebnisse)\n",
    "print(df_ergebnisse.head())\n"
   ]
  },
  {
   "cell_type": "markdown",
   "id": "7c2b78cb",
   "metadata": {},
   "source": [
    "### Transformation der Daten\n",
    "\n",
    "- Daten in das Format Date bringen (Momentan String), um Berechnungen für das Alter durchführen zu können\n",
    "- Die Quali Zeiten in ein Millisekundenformat bringen (Momentan String), um Berechnungen für die Durchschnittliche Zeit durchzuführen"
   ]
  },
  {
   "cell_type": "markdown",
   "id": "c567f616",
   "metadata": {},
   "source": [
    "#### Daten transformieren"
   ]
  },
  {
   "cell_type": "code",
   "execution_count": null,
   "id": "c3176c83",
   "metadata": {},
   "outputs": [],
   "source": [
    "def convert_date(df, column_name):\n",
    "    df[column_name] = pd.to_datetime(df[column_name], errors='coerce')\n",
    "    return df"
   ]
  },
  {
   "cell_type": "code",
   "execution_count": null,
   "id": "5d600a77",
   "metadata": {},
   "outputs": [
    {
     "data": {
      "text/html": [
       "<div>\n",
       "<style scoped>\n",
       "    .dataframe tbody tr th:only-of-type {\n",
       "        vertical-align: middle;\n",
       "    }\n",
       "\n",
       "    .dataframe tbody tr th {\n",
       "        vertical-align: top;\n",
       "    }\n",
       "\n",
       "    .dataframe thead th {\n",
       "        text-align: right;\n",
       "    }\n",
       "</style>\n",
       "<table border=\"1\" class=\"dataframe\">\n",
       "  <thead>\n",
       "    <tr style=\"text-align: right;\">\n",
       "      <th></th>\n",
       "      <th>Rennen_ID</th>\n",
       "      <th>Saison</th>\n",
       "      <th>GP_Name</th>\n",
       "      <th>Datum</th>\n",
       "      <th>Runde</th>\n",
       "    </tr>\n",
       "  </thead>\n",
       "  <tbody>\n",
       "    <tr>\n",
       "      <th>0</th>\n",
       "      <td>2023_1</td>\n",
       "      <td>2023</td>\n",
       "      <td>Bahrain Grand Prix</td>\n",
       "      <td>2023-03-05</td>\n",
       "      <td>1</td>\n",
       "    </tr>\n",
       "    <tr>\n",
       "      <th>1</th>\n",
       "      <td>2023_2</td>\n",
       "      <td>2023</td>\n",
       "      <td>Saudi Arabian Grand Prix</td>\n",
       "      <td>2023-03-19</td>\n",
       "      <td>2</td>\n",
       "    </tr>\n",
       "    <tr>\n",
       "      <th>2</th>\n",
       "      <td>2023_3</td>\n",
       "      <td>2023</td>\n",
       "      <td>Australian Grand Prix</td>\n",
       "      <td>2023-04-02</td>\n",
       "      <td>3</td>\n",
       "    </tr>\n",
       "    <tr>\n",
       "      <th>3</th>\n",
       "      <td>2023_4</td>\n",
       "      <td>2023</td>\n",
       "      <td>Azerbaijan Grand Prix</td>\n",
       "      <td>2023-04-30</td>\n",
       "      <td>4</td>\n",
       "    </tr>\n",
       "    <tr>\n",
       "      <th>4</th>\n",
       "      <td>2023_5</td>\n",
       "      <td>2023</td>\n",
       "      <td>Miami Grand Prix</td>\n",
       "      <td>2023-05-07</td>\n",
       "      <td>5</td>\n",
       "    </tr>\n",
       "    <tr>\n",
       "      <th>...</th>\n",
       "      <td>...</td>\n",
       "      <td>...</td>\n",
       "      <td>...</td>\n",
       "      <td>...</td>\n",
       "      <td>...</td>\n",
       "    </tr>\n",
       "    <tr>\n",
       "      <th>65</th>\n",
       "      <td>2025_20</td>\n",
       "      <td>2025</td>\n",
       "      <td>Mexico City Grand Prix</td>\n",
       "      <td>2025-10-26</td>\n",
       "      <td>20</td>\n",
       "    </tr>\n",
       "    <tr>\n",
       "      <th>66</th>\n",
       "      <td>2025_21</td>\n",
       "      <td>2025</td>\n",
       "      <td>São Paulo Grand Prix</td>\n",
       "      <td>2025-11-09</td>\n",
       "      <td>21</td>\n",
       "    </tr>\n",
       "    <tr>\n",
       "      <th>67</th>\n",
       "      <td>2025_22</td>\n",
       "      <td>2025</td>\n",
       "      <td>Las Vegas Grand Prix</td>\n",
       "      <td>2025-11-23</td>\n",
       "      <td>22</td>\n",
       "    </tr>\n",
       "    <tr>\n",
       "      <th>68</th>\n",
       "      <td>2025_23</td>\n",
       "      <td>2025</td>\n",
       "      <td>Qatar Grand Prix</td>\n",
       "      <td>2025-11-30</td>\n",
       "      <td>23</td>\n",
       "    </tr>\n",
       "    <tr>\n",
       "      <th>69</th>\n",
       "      <td>2025_24</td>\n",
       "      <td>2025</td>\n",
       "      <td>Abu Dhabi Grand Prix</td>\n",
       "      <td>2025-12-07</td>\n",
       "      <td>24</td>\n",
       "    </tr>\n",
       "  </tbody>\n",
       "</table>\n",
       "<p>70 rows × 5 columns</p>\n",
       "</div>"
      ],
      "text/plain": [
       "   Rennen_ID  Saison                   GP_Name      Datum  Runde\n",
       "0     2023_1    2023        Bahrain Grand Prix 2023-03-05      1\n",
       "1     2023_2    2023  Saudi Arabian Grand Prix 2023-03-19      2\n",
       "2     2023_3    2023     Australian Grand Prix 2023-04-02      3\n",
       "3     2023_4    2023     Azerbaijan Grand Prix 2023-04-30      4\n",
       "4     2023_5    2023          Miami Grand Prix 2023-05-07      5\n",
       "..       ...     ...                       ...        ...    ...\n",
       "65   2025_20    2025    Mexico City Grand Prix 2025-10-26     20\n",
       "66   2025_21    2025      São Paulo Grand Prix 2025-11-09     21\n",
       "67   2025_22    2025      Las Vegas Grand Prix 2025-11-23     22\n",
       "68   2025_23    2025          Qatar Grand Prix 2025-11-30     23\n",
       "69   2025_24    2025      Abu Dhabi Grand Prix 2025-12-07     24\n",
       "\n",
       "[70 rows x 5 columns]"
      ]
     },
     "execution_count": 182,
     "metadata": {},
     "output_type": "execute_result"
    }
   ],
   "source": [
    "convert_date(df_fahrer, \"Geburtsdatum\")\n",
    "convert_date(df_rennen, \"Datum\")"
   ]
  },
  {
   "cell_type": "markdown",
   "id": "bc66c442",
   "metadata": {},
   "source": [
    "#### Zeiten transformieren"
   ]
  },
  {
   "cell_type": "code",
   "execution_count": null,
   "id": "d5e4ca09",
   "metadata": {},
   "outputs": [],
   "source": [
    "def convert_qualifying_times(df):\n",
    "    def convert_to_milliseconds(time_str):\n",
    "        if time_str == \"\\\\N\" or pd.isna(time_str):\n",
    "            return pd.NA\n",
    "        try:\n",
    "            minutes, rest = time_str.split(\":\")\n",
    "            seconds, milliseconds = rest.split(\".\")\n",
    "            total_ms = (\n",
    "                int(minutes) * 60 * 1000 +\n",
    "                int(seconds) * 1000 +\n",
    "                int(milliseconds)\n",
    "            )\n",
    "            return total_ms\n",
    "        except ValueError:\n",
    "            return pd.NA\n",
    "\n",
    "    for col in [\"Q1\", \"Q2\", \"Q3\"]:\n",
    "        if col in df.columns:\n",
    "            df[col] = df[col].apply(convert_to_milliseconds).astype(\"Int64\")\n",
    "\n",
    "    return df"
   ]
  },
  {
   "cell_type": "code",
   "execution_count": null,
   "id": "f8e9dd3d",
   "metadata": {},
   "outputs": [
    {
     "data": {
      "text/html": [
       "<div>\n",
       "<style scoped>\n",
       "    .dataframe tbody tr th:only-of-type {\n",
       "        vertical-align: middle;\n",
       "    }\n",
       "\n",
       "    .dataframe tbody tr th {\n",
       "        vertical-align: top;\n",
       "    }\n",
       "\n",
       "    .dataframe thead th {\n",
       "        text-align: right;\n",
       "    }\n",
       "</style>\n",
       "<table border=\"1\" class=\"dataframe\">\n",
       "  <thead>\n",
       "    <tr style=\"text-align: right;\">\n",
       "      <th></th>\n",
       "      <th>Saison</th>\n",
       "      <th>Runde</th>\n",
       "      <th>Fahrer_ID</th>\n",
       "      <th>Startplatz</th>\n",
       "      <th>Q1</th>\n",
       "      <th>Q2</th>\n",
       "      <th>Q3</th>\n",
       "    </tr>\n",
       "  </thead>\n",
       "  <tbody>\n",
       "    <tr>\n",
       "      <th>0</th>\n",
       "      <td>2023</td>\n",
       "      <td>1</td>\n",
       "      <td>max_verstappen</td>\n",
       "      <td>1</td>\n",
       "      <td>91295</td>\n",
       "      <td>90503</td>\n",
       "      <td>89708</td>\n",
       "    </tr>\n",
       "    <tr>\n",
       "      <th>1</th>\n",
       "      <td>2023</td>\n",
       "      <td>1</td>\n",
       "      <td>perez</td>\n",
       "      <td>2</td>\n",
       "      <td>91479</td>\n",
       "      <td>90746</td>\n",
       "      <td>89846</td>\n",
       "    </tr>\n",
       "    <tr>\n",
       "      <th>2</th>\n",
       "      <td>2023</td>\n",
       "      <td>1</td>\n",
       "      <td>leclerc</td>\n",
       "      <td>3</td>\n",
       "      <td>91094</td>\n",
       "      <td>90282</td>\n",
       "      <td>90000</td>\n",
       "    </tr>\n",
       "    <tr>\n",
       "      <th>3</th>\n",
       "      <td>2023</td>\n",
       "      <td>1</td>\n",
       "      <td>sainz</td>\n",
       "      <td>4</td>\n",
       "      <td>90993</td>\n",
       "      <td>90515</td>\n",
       "      <td>90154</td>\n",
       "    </tr>\n",
       "    <tr>\n",
       "      <th>4</th>\n",
       "      <td>2023</td>\n",
       "      <td>1</td>\n",
       "      <td>alonso</td>\n",
       "      <td>5</td>\n",
       "      <td>91158</td>\n",
       "      <td>90645</td>\n",
       "      <td>90336</td>\n",
       "    </tr>\n",
       "    <tr>\n",
       "      <th>...</th>\n",
       "      <td>...</td>\n",
       "      <td>...</td>\n",
       "      <td>...</td>\n",
       "      <td>...</td>\n",
       "      <td>...</td>\n",
       "      <td>...</td>\n",
       "      <td>...</td>\n",
       "    </tr>\n",
       "    <tr>\n",
       "      <th>1114</th>\n",
       "      <td>2025</td>\n",
       "      <td>10</td>\n",
       "      <td>bortoleto</td>\n",
       "      <td>16</td>\n",
       "      <td>72385</td>\n",
       "      <td>&lt;NA&gt;</td>\n",
       "      <td>&lt;NA&gt;</td>\n",
       "    </tr>\n",
       "    <tr>\n",
       "      <th>1115</th>\n",
       "      <td>2025</td>\n",
       "      <td>10</td>\n",
       "      <td>sainz</td>\n",
       "      <td>17</td>\n",
       "      <td>72398</td>\n",
       "      <td>&lt;NA&gt;</td>\n",
       "      <td>&lt;NA&gt;</td>\n",
       "    </tr>\n",
       "    <tr>\n",
       "      <th>1116</th>\n",
       "      <td>2025</td>\n",
       "      <td>10</td>\n",
       "      <td>stroll</td>\n",
       "      <td>18</td>\n",
       "      <td>72517</td>\n",
       "      <td>&lt;NA&gt;</td>\n",
       "      <td>&lt;NA&gt;</td>\n",
       "    </tr>\n",
       "    <tr>\n",
       "      <th>1117</th>\n",
       "      <td>2025</td>\n",
       "      <td>10</td>\n",
       "      <td>lawson</td>\n",
       "      <td>19</td>\n",
       "      <td>72525</td>\n",
       "      <td>&lt;NA&gt;</td>\n",
       "      <td>&lt;NA&gt;</td>\n",
       "    </tr>\n",
       "    <tr>\n",
       "      <th>1118</th>\n",
       "      <td>2025</td>\n",
       "      <td>10</td>\n",
       "      <td>gasly</td>\n",
       "      <td>20</td>\n",
       "      <td>72667</td>\n",
       "      <td>&lt;NA&gt;</td>\n",
       "      <td>&lt;NA&gt;</td>\n",
       "    </tr>\n",
       "  </tbody>\n",
       "</table>\n",
       "<p>1119 rows × 7 columns</p>\n",
       "</div>"
      ],
      "text/plain": [
       "      Saison  Runde       Fahrer_ID  Startplatz     Q1     Q2     Q3\n",
       "0       2023      1  max_verstappen           1  91295  90503  89708\n",
       "1       2023      1           perez           2  91479  90746  89846\n",
       "2       2023      1         leclerc           3  91094  90282  90000\n",
       "3       2023      1           sainz           4  90993  90515  90154\n",
       "4       2023      1          alonso           5  91158  90645  90336\n",
       "...      ...    ...             ...         ...    ...    ...    ...\n",
       "1114    2025     10       bortoleto          16  72385   <NA>   <NA>\n",
       "1115    2025     10           sainz          17  72398   <NA>   <NA>\n",
       "1116    2025     10          stroll          18  72517   <NA>   <NA>\n",
       "1117    2025     10          lawson          19  72525   <NA>   <NA>\n",
       "1118    2025     10           gasly          20  72667   <NA>   <NA>\n",
       "\n",
       "[1119 rows x 7 columns]"
      ]
     },
     "execution_count": 183,
     "metadata": {},
     "output_type": "execute_result"
    }
   ],
   "source": [
    "convert_qualifying_times(df_quali)"
   ]
  },
  {
   "cell_type": "code",
   "execution_count": null,
   "id": "311bb516",
   "metadata": {},
   "outputs": [
    {
     "name": "stdout",
     "output_type": "stream",
     "text": [
      "<class 'pandas.core.frame.DataFrame'>\n",
      "RangeIndex: 68 entries, 0 to 67\n",
      "Data columns (total 4 columns):\n",
      " #   Column        Non-Null Count  Dtype         \n",
      "---  ------        --------------  -----         \n",
      " 0   Fahrer_ID     68 non-null     object        \n",
      " 1   Name          68 non-null     object        \n",
      " 2   Nationalität  68 non-null     object        \n",
      " 3   Geburtsdatum  68 non-null     datetime64[ns]\n",
      "dtypes: datetime64[ns](1), object(3)\n",
      "memory usage: 2.3+ KB\n",
      "<class 'pandas.core.frame.DataFrame'>\n",
      "RangeIndex: 70 entries, 0 to 69\n",
      "Data columns (total 5 columns):\n",
      " #   Column     Non-Null Count  Dtype         \n",
      "---  ------     --------------  -----         \n",
      " 0   Rennen_ID  70 non-null     object        \n",
      " 1   Saison     70 non-null     int64         \n",
      " 2   GP_Name    70 non-null     object        \n",
      " 3   Datum      70 non-null     datetime64[ns]\n",
      " 4   Runde      70 non-null     int64         \n",
      "dtypes: datetime64[ns](1), int64(2), object(2)\n",
      "memory usage: 2.9+ KB\n",
      "<class 'pandas.core.frame.DataFrame'>\n",
      "RangeIndex: 1119 entries, 0 to 1118\n",
      "Data columns (total 7 columns):\n",
      " #   Column      Non-Null Count  Dtype \n",
      "---  ------      --------------  ----- \n",
      " 0   Saison      1119 non-null   int64 \n",
      " 1   Runde       1119 non-null   int64 \n",
      " 2   Fahrer_ID   1119 non-null   object\n",
      " 3   Startplatz  1119 non-null   int64 \n",
      " 4   Q1          1108 non-null   Int64 \n",
      " 5   Q2          829 non-null    Int64 \n",
      " 6   Q3          548 non-null    Int64 \n",
      "dtypes: Int64(3), int64(3), object(1)\n",
      "memory usage: 64.6+ KB\n"
     ]
    }
   ],
   "source": [
    "df_fahrer.info()\n",
    "df_rennen.info()\n",
    "df_quali.info()"
   ]
  },
  {
   "cell_type": "code",
   "execution_count": null,
   "id": "b5eb7bda",
   "metadata": {},
   "outputs": [],
   "source": [
    "df_fahrer = df_fahrer.drop_duplicates(subset=\"Fahrer_ID\")\n",
    "df_konstrukteure = df_konstrukteure.drop_duplicates(subset=\"Konstrukteur_ID\")\n"
   ]
  },
  {
   "cell_type": "markdown",
   "id": "680e8f91",
   "metadata": {},
   "source": [
    "### Laden in Datenbank"
   ]
  },
  {
   "cell_type": "code",
   "execution_count": null,
   "id": "63454fbb",
   "metadata": {},
   "outputs": [
    {
     "data": {
      "text/plain": [
       "<duckdb.duckdb.DuckDBPyConnection at 0x2c01ff59730>"
      ]
     },
     "execution_count": 192,
     "metadata": {},
     "output_type": "execute_result"
    }
   ],
   "source": [
    "con.execute(\"INSERT INTO Fahrer SELECT * FROM df_fahrer\")\n",
    "con.execute(\"INSERT INTO Konstrukteur SELECT * FROM df_konstrukteure\")\n",
    "con.execute(\"INSERT INTO Rennen SELECT * FROM df_rennen\")\n",
    "con.execute(\"INSERT INTO Qualifikation SELECT Fahrer_ID, Runde, Q1, Q2, Q3, Startplatz, Saison FROM df_quali\")\n",
    "con.execute(\"INSERT INTO Ergebnis SELECT * FROM df_ergebnisse\")\n"
   ]
  },
  {
   "cell_type": "code",
   "execution_count": null,
   "id": "34db0256",
   "metadata": {},
   "outputs": [],
   "source": [
    "con.close()"
   ]
  }
 ],
 "metadata": {
  "kernelspec": {
   "display_name": ".venv",
   "language": "python",
   "name": "python3"
  },
  "language_info": {
   "codemirror_mode": {
    "name": "ipython",
    "version": 3
   },
   "file_extension": ".py",
   "mimetype": "text/x-python",
   "name": "python",
   "nbconvert_exporter": "python",
   "pygments_lexer": "ipython3",
   "version": "3.13.5"
  }
 },
 "nbformat": 4,
 "nbformat_minor": 5
}
